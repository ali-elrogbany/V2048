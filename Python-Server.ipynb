{
 "cells": [
  {
   "cell_type": "code",
   "execution_count": null,
   "id": "f9cc5094",
   "metadata": {},
   "outputs": [
    {
     "name": "stdout",
     "output_type": "stream",
     "text": [
      "Waiting for a connection...\n",
      "Device connected: ('127.0.0.1', 60042)\n"
     ]
    }
   ],
   "source": [
    "import socket\n",
    "\n",
    "soc = socket.socket()\n",
    "hostname = \"localhost\"\n",
    "port = 65436\n",
    "soc.bind((hostname, port))\n",
    "soc.listen(5)\n",
    "\n",
    "print(\"Waiting for a connection...\")\n",
    "conn, addr = soc.accept()\n",
    "print(\"Device connected: \" + str(addr))\n",
    "\n",
    "try:\n",
    "    while True:\n",
    "        inputGiven = input(\"Enter a direction: \")\n",
    "        \n",
    "        if inputGiven.strip():\n",
    "            msg = (inputGiven + \"\\n\").encode(\"ASCII\")\n",
    "            try:\n",
    "                conn.send(msg)\n",
    "                print(f\"Sent: {inputGiven}\")\n",
    "            except BrokenPipeError:\n",
    "                print(\"Client disconnected. Stopping server.\")\n",
    "                break\n",
    "        else:\n",
    "            print(\"Please enter a valid direction.\")\n",
    "except Exception as e:\n",
    "    print(f\"An error occurred: {e}\")\n",
    "finally:\n",
    "    conn.close()\n",
    "    soc.close()\n"
   ]
  },
  {
   "cell_type": "code",
   "execution_count": null,
   "id": "565e2f4a",
   "metadata": {},
   "outputs": [],
   "source": []
  }
 ],
 "metadata": {
  "kernelspec": {
   "display_name": "Python 3 (ipykernel)",
   "language": "python",
   "name": "python3"
  },
  "language_info": {
   "codemirror_mode": {
    "name": "ipython",
    "version": 3
   },
   "file_extension": ".py",
   "mimetype": "text/x-python",
   "name": "python",
   "nbconvert_exporter": "python",
   "pygments_lexer": "ipython3",
   "version": "3.9.12"
  }
 },
 "nbformat": 4,
 "nbformat_minor": 5
}
